{
 "cells": [
  {
   "cell_type": "code",
   "execution_count": 1,
   "metadata": {},
   "outputs": [],
   "source": [
    "import pandas as pd\n",
    "import numpy as np\n",
    "import matplotlib.pyplot as plt\n",
    "import seaborn as sns\n",
    "%matplotlib inline\n",
    "sns.set_palette(\"Set2\")"
   ]
  },
  {
   "cell_type": "markdown",
   "metadata": {},
   "source": [
    "## 1. データの取得"
   ]
  },
  {
   "cell_type": "markdown",
   "metadata": {},
   "source": [
    "- `https://www.kaggle.com/nikdavis/steam-store-games`から取得\n",
    "- 一部のカラム（ex.platforms）は「;」区切りで複数の値が入っているので、前もってスプリットしたデータを扱うことにする"
   ]
  },
  {
   "cell_type": "code",
   "execution_count": 2,
   "metadata": {},
   "outputs": [
    {
     "data": {
      "text/html": [
       "<div>\n",
       "<style scoped>\n",
       "    .dataframe tbody tr th:only-of-type {\n",
       "        vertical-align: middle;\n",
       "    }\n",
       "\n",
       "    .dataframe tbody tr th {\n",
       "        vertical-align: top;\n",
       "    }\n",
       "\n",
       "    .dataframe thead th {\n",
       "        text-align: right;\n",
       "    }\n",
       "</style>\n",
       "<table border=\"1\" class=\"dataframe\">\n",
       "  <thead>\n",
       "    <tr style=\"text-align: right;\">\n",
       "      <th></th>\n",
       "      <th>appid</th>\n",
       "      <th>name</th>\n",
       "      <th>release_date</th>\n",
       "      <th>english</th>\n",
       "      <th>developer</th>\n",
       "      <th>publisher</th>\n",
       "      <th>platform1</th>\n",
       "      <th>platform2</th>\n",
       "      <th>platform3</th>\n",
       "      <th>required_age</th>\n",
       "      <th>...</th>\n",
       "      <th>steamspy_tags1</th>\n",
       "      <th>steamspy_tags2</th>\n",
       "      <th>steamspy_tags3</th>\n",
       "      <th>achievements</th>\n",
       "      <th>positive_ratings</th>\n",
       "      <th>negative_ratings</th>\n",
       "      <th>average_playtime</th>\n",
       "      <th>median_playtime</th>\n",
       "      <th>owners</th>\n",
       "      <th>price</th>\n",
       "    </tr>\n",
       "  </thead>\n",
       "  <tbody>\n",
       "    <tr>\n",
       "      <th>0</th>\n",
       "      <td>10</td>\n",
       "      <td>Counter-Strike</td>\n",
       "      <td>2000/11/1</td>\n",
       "      <td>1</td>\n",
       "      <td>Valve</td>\n",
       "      <td>Valve</td>\n",
       "      <td>windows</td>\n",
       "      <td>mac</td>\n",
       "      <td>linux</td>\n",
       "      <td>0</td>\n",
       "      <td>...</td>\n",
       "      <td>Action</td>\n",
       "      <td>FPS</td>\n",
       "      <td>Multiplayer</td>\n",
       "      <td>0</td>\n",
       "      <td>124534</td>\n",
       "      <td>3339</td>\n",
       "      <td>17612</td>\n",
       "      <td>317</td>\n",
       "      <td>10000000-20000000</td>\n",
       "      <td>7.19</td>\n",
       "    </tr>\n",
       "    <tr>\n",
       "      <th>1</th>\n",
       "      <td>20</td>\n",
       "      <td>Team Fortress Classic</td>\n",
       "      <td>1999/4/1</td>\n",
       "      <td>1</td>\n",
       "      <td>Valve</td>\n",
       "      <td>Valve</td>\n",
       "      <td>windows</td>\n",
       "      <td>mac</td>\n",
       "      <td>linux</td>\n",
       "      <td>0</td>\n",
       "      <td>...</td>\n",
       "      <td>Action</td>\n",
       "      <td>FPS</td>\n",
       "      <td>Multiplayer</td>\n",
       "      <td>0</td>\n",
       "      <td>3318</td>\n",
       "      <td>633</td>\n",
       "      <td>277</td>\n",
       "      <td>62</td>\n",
       "      <td>5000000-10000000</td>\n",
       "      <td>3.99</td>\n",
       "    </tr>\n",
       "    <tr>\n",
       "      <th>2</th>\n",
       "      <td>30</td>\n",
       "      <td>Day of Defeat</td>\n",
       "      <td>2003/5/1</td>\n",
       "      <td>1</td>\n",
       "      <td>Valve</td>\n",
       "      <td>Valve</td>\n",
       "      <td>windows</td>\n",
       "      <td>mac</td>\n",
       "      <td>linux</td>\n",
       "      <td>0</td>\n",
       "      <td>...</td>\n",
       "      <td>FPS</td>\n",
       "      <td>World War II</td>\n",
       "      <td>Multiplayer</td>\n",
       "      <td>0</td>\n",
       "      <td>3416</td>\n",
       "      <td>398</td>\n",
       "      <td>187</td>\n",
       "      <td>34</td>\n",
       "      <td>5000000-10000000</td>\n",
       "      <td>3.99</td>\n",
       "    </tr>\n",
       "    <tr>\n",
       "      <th>3</th>\n",
       "      <td>40</td>\n",
       "      <td>Deathmatch Classic</td>\n",
       "      <td>2001/6/1</td>\n",
       "      <td>1</td>\n",
       "      <td>Valve</td>\n",
       "      <td>Valve</td>\n",
       "      <td>windows</td>\n",
       "      <td>mac</td>\n",
       "      <td>linux</td>\n",
       "      <td>0</td>\n",
       "      <td>...</td>\n",
       "      <td>Action</td>\n",
       "      <td>FPS</td>\n",
       "      <td>Multiplayer</td>\n",
       "      <td>0</td>\n",
       "      <td>1273</td>\n",
       "      <td>267</td>\n",
       "      <td>258</td>\n",
       "      <td>184</td>\n",
       "      <td>5000000-10000000</td>\n",
       "      <td>3.99</td>\n",
       "    </tr>\n",
       "    <tr>\n",
       "      <th>4</th>\n",
       "      <td>50</td>\n",
       "      <td>Half-Life: Opposing Force</td>\n",
       "      <td>1999/11/1</td>\n",
       "      <td>1</td>\n",
       "      <td>Gearbox Software</td>\n",
       "      <td>Valve</td>\n",
       "      <td>windows</td>\n",
       "      <td>mac</td>\n",
       "      <td>linux</td>\n",
       "      <td>0</td>\n",
       "      <td>...</td>\n",
       "      <td>FPS</td>\n",
       "      <td>Action</td>\n",
       "      <td>Sci-fi</td>\n",
       "      <td>0</td>\n",
       "      <td>5250</td>\n",
       "      <td>288</td>\n",
       "      <td>624</td>\n",
       "      <td>415</td>\n",
       "      <td>5000000-10000000</td>\n",
       "      <td>3.99</td>\n",
       "    </tr>\n",
       "  </tbody>\n",
       "</table>\n",
       "<p>5 rows × 40 columns</p>\n",
       "</div>"
      ],
      "text/plain": [
       "   appid                       name release_date  english         developer  \\\n",
       "0     10             Counter-Strike    2000/11/1        1             Valve   \n",
       "1     20      Team Fortress Classic     1999/4/1        1             Valve   \n",
       "2     30              Day of Defeat     2003/5/1        1             Valve   \n",
       "3     40         Deathmatch Classic     2001/6/1        1             Valve   \n",
       "4     50  Half-Life: Opposing Force    1999/11/1        1  Gearbox Software   \n",
       "\n",
       "  publisher platform1 platform2 platform3  required_age  ... steamspy_tags1  \\\n",
       "0     Valve   windows       mac     linux             0  ...         Action   \n",
       "1     Valve   windows       mac     linux             0  ...         Action   \n",
       "2     Valve   windows       mac     linux             0  ...            FPS   \n",
       "3     Valve   windows       mac     linux             0  ...         Action   \n",
       "4     Valve   windows       mac     linux             0  ...            FPS   \n",
       "\n",
       "  steamspy_tags2 steamspy_tags3 achievements positive_ratings  \\\n",
       "0            FPS    Multiplayer            0           124534   \n",
       "1            FPS    Multiplayer            0             3318   \n",
       "2   World War II    Multiplayer            0             3416   \n",
       "3            FPS    Multiplayer            0             1273   \n",
       "4         Action         Sci-fi            0             5250   \n",
       "\n",
       "  negative_ratings average_playtime median_playtime             owners price  \n",
       "0             3339            17612             317  10000000-20000000  7.19  \n",
       "1              633              277              62   5000000-10000000  3.99  \n",
       "2              398              187              34   5000000-10000000  3.99  \n",
       "3              267              258             184   5000000-10000000  3.99  \n",
       "4              288              624             415   5000000-10000000  3.99  \n",
       "\n",
       "[5 rows x 40 columns]"
      ]
     },
     "execution_count": 2,
     "metadata": {},
     "output_type": "execute_result"
    }
   ],
   "source": [
    "df = pd.read_csv(\"steam_parsed.tsv\", delimiter=\"\\t\")\n",
    "df.head()"
   ]
  },
  {
   "cell_type": "markdown",
   "metadata": {},
   "source": [
    "## 2. プラットフォーム分布"
   ]
  },
  {
   "cell_type": "markdown",
   "metadata": {},
   "source": [
    "カラムスプリットの結果、プラットフォームのカラムが３つもできたので、それぞれ抽出してunionする関数を作成"
   ]
  },
  {
   "cell_type": "code",
   "execution_count": 3,
   "metadata": {},
   "outputs": [],
   "source": [
    "def union_data(df, base_cols, prefix, suffix_num):\n",
    "    return_cols = base_cols.copy()\n",
    "    return_cols.append(prefix)\n",
    "    result = pd.DataFrame(columns=return_cols)\n",
    "    \n",
    "    for i in range(suffix_num):\n",
    "        needed_cols = base_cols.copy()\n",
    "        added_col = prefix + str(i + 1)\n",
    "        needed_cols.append(added_col)\n",
    "        temp = df.loc[~df[added_col].isnull(), needed_cols]\n",
    "        temp = temp.rename(columns={added_col: prefix})\n",
    "        result = result.append(temp, ignore_index=True, sort=False)\n",
    "    \n",
    "    return result"
   ]
  },
  {
   "cell_type": "markdown",
   "metadata": {},
   "source": [
    "以下のようなアウトプットを作る"
   ]
  },
  {
   "cell_type": "code",
   "execution_count": 4,
   "metadata": {},
   "outputs": [
    {
     "data": {
      "text/html": [
       "<div>\n",
       "<style scoped>\n",
       "    .dataframe tbody tr th:only-of-type {\n",
       "        vertical-align: middle;\n",
       "    }\n",
       "\n",
       "    .dataframe tbody tr th {\n",
       "        vertical-align: top;\n",
       "    }\n",
       "\n",
       "    .dataframe thead th {\n",
       "        text-align: right;\n",
       "    }\n",
       "</style>\n",
       "<table border=\"1\" class=\"dataframe\">\n",
       "  <thead>\n",
       "    <tr style=\"text-align: right;\">\n",
       "      <th></th>\n",
       "      <th>appid</th>\n",
       "      <th>name</th>\n",
       "      <th>platform</th>\n",
       "    </tr>\n",
       "  </thead>\n",
       "  <tbody>\n",
       "    <tr>\n",
       "      <th>0</th>\n",
       "      <td>10</td>\n",
       "      <td>Counter-Strike</td>\n",
       "      <td>linux</td>\n",
       "    </tr>\n",
       "    <tr>\n",
       "      <th>1</th>\n",
       "      <td>10</td>\n",
       "      <td>Counter-Strike</td>\n",
       "      <td>mac</td>\n",
       "    </tr>\n",
       "    <tr>\n",
       "      <th>2</th>\n",
       "      <td>10</td>\n",
       "      <td>Counter-Strike</td>\n",
       "      <td>windows</td>\n",
       "    </tr>\n",
       "    <tr>\n",
       "      <th>3</th>\n",
       "      <td>20</td>\n",
       "      <td>Team Fortress Classic</td>\n",
       "      <td>linux</td>\n",
       "    </tr>\n",
       "    <tr>\n",
       "      <th>4</th>\n",
       "      <td>20</td>\n",
       "      <td>Team Fortress Classic</td>\n",
       "      <td>mac</td>\n",
       "    </tr>\n",
       "  </tbody>\n",
       "</table>\n",
       "</div>"
      ],
      "text/plain": [
       "  appid                   name platform\n",
       "0    10         Counter-Strike    linux\n",
       "1    10         Counter-Strike      mac\n",
       "2    10         Counter-Strike  windows\n",
       "3    20  Team Fortress Classic    linux\n",
       "4    20  Team Fortress Classic      mac"
      ]
     },
     "execution_count": 4,
     "metadata": {},
     "output_type": "execute_result"
    }
   ],
   "source": [
    "platform = union_data(df, [\"appid\", \"name\"], \"platform\", 3).sort_values(by=[\"appid\", \"platform\"]).reset_index(drop=True)\n",
    "platform.head()"
   ]
  },
  {
   "cell_type": "markdown",
   "metadata": {},
   "source": [
    "- SteamはPCゲーム向けのプラットフォームなので、ほとんどのゲームがwindows専用"
   ]
  },
  {
   "cell_type": "code",
   "execution_count": 5,
   "metadata": {},
   "outputs": [
    {
     "data": {
      "image/png": "[encoded data removed]",
      "text/plain": [
       "<Figure size 432x288 with 1 Axes>"
      ]
     },
     "metadata": {
      "needs_background": "light"
     },
     "output_type": "display_data"
    }
   ],
   "source": [
    "ax = sns.barplot(x=\"platform\", y=\"appid\", data=platform, estimator=lambda x: len(np.unique(x)), ci=None, color=\"lightskyblue\")\n",
    "ax.set(ylabel=\"# of Games\")\n",
    "plt.show()"
   ]
  },
  {
   "cell_type": "markdown",
   "metadata": {},
   "source": [
    "## 3.価格分布"
   ]
  },
  {
   "cell_type": "markdown",
   "metadata": {},
   "source": [
    "- 約8割のゲームが10ポンド（約1400円）未満なので、ゲーム本体は手頃な値段設定になっている\n",
    "- ただし、SteamではDLC販売が主流なので、DLCのデータを紐づけない限り、コンテンツ全体の値段を把握することはできない"
   ]
  },
  {
   "cell_type": "code",
   "execution_count": 6,
   "metadata": {},
   "outputs": [
    {
     "data": {
      "image/png": "[encoded data removed]",
      "text/plain": [
       "<Figure size 432x288 with 1 Axes>"
      ]
     },
     "metadata": {},
     "output_type": "display_data"
    }
   ],
   "source": [
    "price_count = pd.cut(df[\"price\"], [0, 1, 3, 5, 10, 30, 500], right=False).value_counts().sort_index()\n",
    "\n",
    "fig = plt.figure()\n",
    "ax = fig.add_subplot(1, 1, 1)\n",
    "ax.pie(price_count.values, labels=price_count.index, autopct=\"%1.1f%%\")\n",
    "plt.show()"
   ]
  },
  {
   "cell_type": "markdown",
   "metadata": {},
   "source": [
    "## 4. ジャンル分布"
   ]
  },
  {
   "cell_type": "markdown",
   "metadata": {},
   "source": [
    "- インディーゲームが盛り上がっていることが分かる（ジャンルと呼べるのかは別として）\n",
    "- ゲームの発売数は、アクション > カジュアル >= アドベンチャーの順"
   ]
  },
  {
   "cell_type": "code",
   "execution_count": 7,
   "metadata": {},
   "outputs": [
    {
     "data": {
      "image/png": "[encoded data removed]",
      "text/plain": [
       "<Figure size 1440x432 with 1 Axes>"
      ]
     },
     "metadata": {
      "needs_background": "light"
     },
     "output_type": "display_data"
    }
   ],
   "source": [
    "genres = union_data(df, [\"appid\", \"name\", \"price\"], \"genre\", 10)\n",
    "\n",
    "plt.figure(figsize=(20, 6))\n",
    "ax = sns.barplot(x=\"genre\", y=\"appid\", data=genres, estimator=lambda x: len(np.unique(x)), ci=None, color=\"darkorange\")\n",
    "ax.set(ylabel=\"# of Games\")\n",
    "plt.xticks(rotation=90)\n",
    "plt.show()"
   ]
  },
  {
   "cell_type": "markdown",
   "metadata": {},
   "source": [
    "- メインジャンルの中では、シミュレーションゲームの平均価格が一番高い\n",
    "- カジュアルゲームの平均価格は、インディーゲームの平均価格よりも低い"
   ]
  },
  {
   "cell_type": "code",
   "execution_count": 9,
   "metadata": {},
   "outputs": [
    {
     "data": {
      "text/html": [
       "<div>\n",
       "<style scoped>\n",
       "    .dataframe tbody tr th:only-of-type {\n",
       "        vertical-align: middle;\n",
       "    }\n",
       "\n",
       "    .dataframe tbody tr th {\n",
       "        vertical-align: top;\n",
       "    }\n",
       "\n",
       "    .dataframe thead th {\n",
       "        text-align: right;\n",
       "    }\n",
       "</style>\n",
       "<table border=\"1\" class=\"dataframe\">\n",
       "  <thead>\n",
       "    <tr style=\"text-align: right;\">\n",
       "      <th></th>\n",
       "      <th>price</th>\n",
       "    </tr>\n",
       "    <tr>\n",
       "      <th>genre</th>\n",
       "      <th></th>\n",
       "    </tr>\n",
       "  </thead>\n",
       "  <tbody>\n",
       "    <tr>\n",
       "      <th>Simulation</th>\n",
       "      <td>7.21</td>\n",
       "    </tr>\n",
       "    <tr>\n",
       "      <th>Strategy</th>\n",
       "      <td>6.94</td>\n",
       "    </tr>\n",
       "    <tr>\n",
       "      <th>RPG</th>\n",
       "      <td>6.94</td>\n",
       "    </tr>\n",
       "    <tr>\n",
       "      <th>Action</th>\n",
       "      <td>6.14</td>\n",
       "    </tr>\n",
       "    <tr>\n",
       "      <th>Adventure</th>\n",
       "      <td>6.12</td>\n",
       "    </tr>\n",
       "    <tr>\n",
       "      <th>Indie</th>\n",
       "      <td>5.05</td>\n",
       "    </tr>\n",
       "    <tr>\n",
       "      <th>Casual</th>\n",
       "      <td>4.11</td>\n",
       "    </tr>\n",
       "  </tbody>\n",
       "</table>\n",
       "</div>"
      ],
      "text/plain": [
       "            price\n",
       "genre            \n",
       "Simulation   7.21\n",
       "Strategy     6.94\n",
       "RPG          6.94\n",
       "Action       6.14\n",
       "Adventure    6.12\n",
       "Indie        5.05\n",
       "Casual       4.11"
      ]
     },
     "execution_count": 9,
     "metadata": {},
     "output_type": "execute_result"
    }
   ],
   "source": [
    "main_genres = genres.query('genre in [\"Action\", \"Indie\", \"Strategy\", \"RPG\", \"Casual\", \"Simulation\", \"Adventure\"]')\n",
    "main_genres[[\"genre\", \"price\"]].groupby(\"genre\").mean().sort_values(\"price\", ascending=False).round(2)"
   ]
  },
  {
   "cell_type": "markdown",
   "metadata": {},
   "source": [
    "## 5. 発売年度"
   ]
  },
  {
   "cell_type": "markdown",
   "metadata": {},
   "source": [
    "- 2014年以降、発売数が目に見えるほど増えている\n",
    "- データが2019年5月ごろ取得されたので、2019年の数値は参考程度に"
   ]
  },
  {
   "cell_type": "code",
   "execution_count": 10,
   "metadata": {},
   "outputs": [
    {
     "data": {
      "image/png": "[encoded data removed]",
      "text/plain": [
       "<Figure size 1008x360 with 1 Axes>"
      ]
     },
     "metadata": {
      "needs_background": "light"
     },
     "output_type": "display_data"
    }
   ],
   "source": [
    "df[\"release_date\"] = pd.to_datetime(df[\"release_date\"])\n",
    "release = union_data(df, [\"appid\", \"name\", \"release_date\"], \"genre\", 10)\n",
    "release[\"release_year\"] = release[\"release_date\"].apply(lambda x: x.year)\n",
    "\n",
    "plt.figure(figsize=(14, 5))\n",
    "ax = sns.barplot(x=\"release_year\", y=\"appid\", data=release, estimator=lambda x: len(np.unique(x)), ci=None, color=\"lightgreen\")\n",
    "ax.set(ylabel=\"# of Games\")\n",
    "plt.show()"
   ]
  },
  {
   "cell_type": "markdown",
   "metadata": {},
   "source": [
    "- 発売数が一気に増えた2014年時点で、既にインディーゲームの数がトップとなっている"
   ]
  },
  {
   "cell_type": "code",
   "execution_count": 11,
   "metadata": {},
   "outputs": [
    {
     "data": {
      "text/html": [
       "<div>\n",
       "<style scoped>\n",
       "    .dataframe tbody tr th:only-of-type {\n",
       "        vertical-align: middle;\n",
       "    }\n",
       "\n",
       "    .dataframe tbody tr th {\n",
       "        vertical-align: top;\n",
       "    }\n",
       "\n",
       "    .dataframe thead th {\n",
       "        text-align: right;\n",
       "    }\n",
       "</style>\n",
       "<table border=\"1\" class=\"dataframe\">\n",
       "  <thead>\n",
       "    <tr style=\"text-align: right;\">\n",
       "      <th>genre</th>\n",
       "      <th>Action</th>\n",
       "      <th>Adventure</th>\n",
       "      <th>Casual</th>\n",
       "      <th>Indie</th>\n",
       "      <th>RPG</th>\n",
       "      <th>Simulation</th>\n",
       "      <th>Strategy</th>\n",
       "    </tr>\n",
       "    <tr>\n",
       "      <th>release_year</th>\n",
       "      <th></th>\n",
       "      <th></th>\n",
       "      <th></th>\n",
       "      <th></th>\n",
       "      <th></th>\n",
       "      <th></th>\n",
       "      <th></th>\n",
       "    </tr>\n",
       "  </thead>\n",
       "  <tbody>\n",
       "    <tr>\n",
       "      <th>2014</th>\n",
       "      <td>647</td>\n",
       "      <td>582</td>\n",
       "      <td>404</td>\n",
       "      <td>887</td>\n",
       "      <td>283</td>\n",
       "      <td>240</td>\n",
       "      <td>331</td>\n",
       "    </tr>\n",
       "    <tr>\n",
       "      <th>2015</th>\n",
       "      <td>1156</td>\n",
       "      <td>1011</td>\n",
       "      <td>754</td>\n",
       "      <td>1900</td>\n",
       "      <td>502</td>\n",
       "      <td>467</td>\n",
       "      <td>578</td>\n",
       "    </tr>\n",
       "    <tr>\n",
       "      <th>2016</th>\n",
       "      <td>1950</td>\n",
       "      <td>1636</td>\n",
       "      <td>1624</td>\n",
       "      <td>3154</td>\n",
       "      <td>621</td>\n",
       "      <td>849</td>\n",
       "      <td>806</td>\n",
       "    </tr>\n",
       "    <tr>\n",
       "      <th>2017</th>\n",
       "      <td>2905</td>\n",
       "      <td>2478</td>\n",
       "      <td>2560</td>\n",
       "      <td>4706</td>\n",
       "      <td>935</td>\n",
       "      <td>1231</td>\n",
       "      <td>1174</td>\n",
       "    </tr>\n",
       "    <tr>\n",
       "      <th>2018</th>\n",
       "      <td>3513</td>\n",
       "      <td>3001</td>\n",
       "      <td>3624</td>\n",
       "      <td>6404</td>\n",
       "      <td>1276</td>\n",
       "      <td>1717</td>\n",
       "      <td>1457</td>\n",
       "    </tr>\n",
       "  </tbody>\n",
       "</table>\n",
       "</div>"
      ],
      "text/plain": [
       "genre         Action  Adventure  Casual  Indie   RPG  Simulation  Strategy\n",
       "release_year                                                              \n",
       "2014             647        582     404    887   283         240       331\n",
       "2015            1156       1011     754   1900   502         467       578\n",
       "2016            1950       1636    1624   3154   621         849       806\n",
       "2017            2905       2478    2560   4706   935        1231      1174\n",
       "2018            3513       3001    3624   6404  1276        1717      1457"
      ]
     },
     "execution_count": 11,
     "metadata": {},
     "output_type": "execute_result"
    }
   ],
   "source": [
    "release_pivot = release.query('genre in [\"Action\", \"Indie\", \"Strategy\", \"RPG\", \"Casual\", \"Simulation\", \"Adventure\"]')\n",
    "release_pivot = pd.pivot_table(release_pivot.loc[release_pivot[\"release_year\"].between(2014, 2018), [\"appid\", \"genre\", \"release_year\"]],\n",
    "                               index=\"release_year\", columns=\"genre\", values=\"appid\", aggfunc=len)\n",
    "release_pivot"
   ]
  },
  {
   "cell_type": "markdown",
   "metadata": {},
   "source": [
    "- 成長率は全体的に鈍化している\n",
    "- 特にアクションとアドベンチャーゲームは、その傾向が強い"
   ]
  },
  {
   "cell_type": "code",
   "execution_count": 12,
   "metadata": {},
   "outputs": [
    {
     "data": {
      "text/html": [
       "<div>\n",
       "<style scoped>\n",
       "    .dataframe tbody tr th:only-of-type {\n",
       "        vertical-align: middle;\n",
       "    }\n",
       "\n",
       "    .dataframe tbody tr th {\n",
       "        vertical-align: top;\n",
       "    }\n",
       "\n",
       "    .dataframe thead th {\n",
       "        text-align: right;\n",
       "    }\n",
       "</style>\n",
       "<table border=\"1\" class=\"dataframe\">\n",
       "  <thead>\n",
       "    <tr style=\"text-align: right;\">\n",
       "      <th>genre</th>\n",
       "      <th>Action_Growth(%)</th>\n",
       "      <th>Adventure_Growth(%)</th>\n",
       "      <th>Casual_Growth(%)</th>\n",
       "      <th>Indie_Growth(%)</th>\n",
       "      <th>RPG_Growth(%)</th>\n",
       "      <th>Simulation_Growth(%)</th>\n",
       "      <th>Strategy_Growth(%)</th>\n",
       "    </tr>\n",
       "    <tr>\n",
       "      <th>release_year</th>\n",
       "      <th></th>\n",
       "      <th></th>\n",
       "      <th></th>\n",
       "      <th></th>\n",
       "      <th></th>\n",
       "      <th></th>\n",
       "      <th></th>\n",
       "    </tr>\n",
       "  </thead>\n",
       "  <tbody>\n",
       "    <tr>\n",
       "      <th>2014</th>\n",
       "      <td>NaN</td>\n",
       "      <td>NaN</td>\n",
       "      <td>NaN</td>\n",
       "      <td>NaN</td>\n",
       "      <td>NaN</td>\n",
       "      <td>NaN</td>\n",
       "      <td>NaN</td>\n",
       "    </tr>\n",
       "    <tr>\n",
       "      <th>2015</th>\n",
       "      <td>78.7</td>\n",
       "      <td>73.7</td>\n",
       "      <td>86.6</td>\n",
       "      <td>114.2</td>\n",
       "      <td>77.4</td>\n",
       "      <td>94.6</td>\n",
       "      <td>74.6</td>\n",
       "    </tr>\n",
       "    <tr>\n",
       "      <th>2016</th>\n",
       "      <td>68.7</td>\n",
       "      <td>61.8</td>\n",
       "      <td>115.4</td>\n",
       "      <td>66.0</td>\n",
       "      <td>23.7</td>\n",
       "      <td>81.8</td>\n",
       "      <td>39.4</td>\n",
       "    </tr>\n",
       "    <tr>\n",
       "      <th>2017</th>\n",
       "      <td>49.0</td>\n",
       "      <td>51.5</td>\n",
       "      <td>57.6</td>\n",
       "      <td>49.2</td>\n",
       "      <td>50.6</td>\n",
       "      <td>45.0</td>\n",
       "      <td>45.7</td>\n",
       "    </tr>\n",
       "    <tr>\n",
       "      <th>2018</th>\n",
       "      <td>20.9</td>\n",
       "      <td>21.1</td>\n",
       "      <td>41.6</td>\n",
       "      <td>36.1</td>\n",
       "      <td>36.5</td>\n",
       "      <td>39.5</td>\n",
       "      <td>24.1</td>\n",
       "    </tr>\n",
       "  </tbody>\n",
       "</table>\n",
       "</div>"
      ],
      "text/plain": [
       "genre         Action_Growth(%)  Adventure_Growth(%)  Casual_Growth(%)  \\\n",
       "release_year                                                            \n",
       "2014                       NaN                  NaN               NaN   \n",
       "2015                      78.7                 73.7              86.6   \n",
       "2016                      68.7                 61.8             115.4   \n",
       "2017                      49.0                 51.5              57.6   \n",
       "2018                      20.9                 21.1              41.6   \n",
       "\n",
       "genre         Indie_Growth(%)  RPG_Growth(%)  Simulation_Growth(%)  \\\n",
       "release_year                                                         \n",
       "2014                      NaN            NaN                   NaN   \n",
       "2015                    114.2           77.4                  94.6   \n",
       "2016                     66.0           23.7                  81.8   \n",
       "2017                     49.2           50.6                  45.0   \n",
       "2018                     36.1           36.5                  39.5   \n",
       "\n",
       "genre         Strategy_Growth(%)  \n",
       "release_year                      \n",
       "2014                         NaN  \n",
       "2015                        74.6  \n",
       "2016                        39.4  \n",
       "2017                        45.7  \n",
       "2018                        24.1  "
      ]
     },
     "execution_count": 12,
     "metadata": {},
     "output_type": "execute_result"
    }
   ],
   "source": [
    "for col in release_pivot.columns:\n",
    "    col_name = \"_\".join([col, \"Growth(%)\"])\n",
    "    release_pivot[col_name] = round(release_pivot[col].pct_change() * 100, 1)\n",
    "release_pivot.drop([\"Action\", \"Indie\", \"Strategy\", \"RPG\", \"Casual\", \"Simulation\", \"Adventure\"], axis=1)"
   ]
  },
  {
   "cell_type": "markdown",
   "metadata": {},
   "source": [
    "## 6.ユーザー評価分布"
   ]
  },
  {
   "cell_type": "code",
   "execution_count": 13,
   "metadata": {},
   "outputs": [
    {
     "data": {
      "text/html": [
       "<div>\n",
       "<style scoped>\n",
       "    .dataframe tbody tr th:only-of-type {\n",
       "        vertical-align: middle;\n",
       "    }\n",
       "\n",
       "    .dataframe tbody tr th {\n",
       "        vertical-align: top;\n",
       "    }\n",
       "\n",
       "    .dataframe thead th {\n",
       "        text-align: right;\n",
       "    }\n",
       "</style>\n",
       "<table border=\"1\" class=\"dataframe\">\n",
       "  <thead>\n",
       "    <tr style=\"text-align: right;\">\n",
       "      <th></th>\n",
       "      <th>appid</th>\n",
       "      <th>name</th>\n",
       "      <th>developer</th>\n",
       "      <th>positive_ratings</th>\n",
       "      <th>negative_ratings</th>\n",
       "      <th>total_ratings</th>\n",
       "      <th>positive_rates</th>\n",
       "      <th>positive_rates_bin</th>\n",
       "    </tr>\n",
       "  </thead>\n",
       "  <tbody>\n",
       "    <tr>\n",
       "      <th>0</th>\n",
       "      <td>10</td>\n",
       "      <td>Counter-Strike</td>\n",
       "      <td>Valve</td>\n",
       "      <td>124534</td>\n",
       "      <td>3339</td>\n",
       "      <td>127873</td>\n",
       "      <td>97.388815</td>\n",
       "      <td>[95, 100)</td>\n",
       "    </tr>\n",
       "    <tr>\n",
       "      <th>1</th>\n",
       "      <td>20</td>\n",
       "      <td>Team Fortress Classic</td>\n",
       "      <td>Valve</td>\n",
       "      <td>3318</td>\n",
       "      <td>633</td>\n",
       "      <td>3951</td>\n",
       "      <td>83.978740</td>\n",
       "      <td>[80, 95)</td>\n",
       "    </tr>\n",
       "    <tr>\n",
       "      <th>2</th>\n",
       "      <td>30</td>\n",
       "      <td>Day of Defeat</td>\n",
       "      <td>Valve</td>\n",
       "      <td>3416</td>\n",
       "      <td>398</td>\n",
       "      <td>3814</td>\n",
       "      <td>89.564761</td>\n",
       "      <td>[80, 95)</td>\n",
       "    </tr>\n",
       "    <tr>\n",
       "      <th>3</th>\n",
       "      <td>40</td>\n",
       "      <td>Deathmatch Classic</td>\n",
       "      <td>Valve</td>\n",
       "      <td>1273</td>\n",
       "      <td>267</td>\n",
       "      <td>1540</td>\n",
       "      <td>82.662338</td>\n",
       "      <td>[80, 95)</td>\n",
       "    </tr>\n",
       "    <tr>\n",
       "      <th>4</th>\n",
       "      <td>50</td>\n",
       "      <td>Half-Life: Opposing Force</td>\n",
       "      <td>Gearbox Software</td>\n",
       "      <td>5250</td>\n",
       "      <td>288</td>\n",
       "      <td>5538</td>\n",
       "      <td>94.799567</td>\n",
       "      <td>[80, 95)</td>\n",
       "    </tr>\n",
       "  </tbody>\n",
       "</table>\n",
       "</div>"
      ],
      "text/plain": [
       "   appid                       name         developer  positive_ratings  \\\n",
       "0     10             Counter-Strike             Valve            124534   \n",
       "1     20      Team Fortress Classic             Valve              3318   \n",
       "2     30              Day of Defeat             Valve              3416   \n",
       "3     40         Deathmatch Classic             Valve              1273   \n",
       "4     50  Half-Life: Opposing Force  Gearbox Software              5250   \n",
       "\n",
       "   negative_ratings  total_ratings  positive_rates positive_rates_bin  \n",
       "0              3339         127873       97.388815          [95, 100)  \n",
       "1               633           3951       83.978740           [80, 95)  \n",
       "2               398           3814       89.564761           [80, 95)  \n",
       "3               267           1540       82.662338           [80, 95)  \n",
       "4               288           5538       94.799567           [80, 95)  "
      ]
     },
     "execution_count": 13,
     "metadata": {},
     "output_type": "execute_result"
    }
   ],
   "source": [
    "ratings = df.loc[:, [\"appid\", \"name\", \"developer\", \"positive_ratings\", \"negative_ratings\"]]\n",
    "ratings[\"total_ratings\"] = ratings[\"positive_ratings\"] + ratings[\"negative_ratings\"]\n",
    "ratings[\"positive_rates\"] = ratings.apply(lambda x: x[3] / (x[5]) * 100, axis=1)\n",
    "ratings[\"positive_rates_bin\"] = pd.cut(ratings[\"positive_rates\"], [0, 50, 70, 80, 95, 100], right=False)\n",
    "ratings.head()"
   ]
  },
  {
   "cell_type": "markdown",
   "metadata": {},
   "source": [
    "- 95%以上の圧倒的好評を受けているゲームはわずか4.6%\n",
    "- 不評が多い17.5%のゲームを除けば、多くのゲームは好評が多い"
   ]
  },
  {
   "cell_type": "code",
   "execution_count": 14,
   "metadata": {},
   "outputs": [
    {
     "data": {
      "image/png": "[encoded data removed]",
      "text/plain": [
       "<Figure size 432x288 with 1 Axes>"
      ]
     },
     "metadata": {},
     "output_type": "display_data"
    }
   ],
   "source": [
    "ratings_count = ratings[\"positive_rates_bin\"].value_counts().sort_index()\n",
    "\n",
    "fig = plt.figure()\n",
    "ax = fig.add_subplot(1, 1, 1)\n",
    "ax.pie(ratings_count.values, labels=ratings_count.index, autopct=\"%1.1f%%\")\n",
    "plt.show()"
   ]
  },
  {
   "cell_type": "markdown",
   "metadata": {},
   "source": [
    "- あまりにもつまらないゲームは、そもそも評価もしないと可能性があるので、1000件以上に絞ってみる\n",
    "- 不評が多いタイトルの割合が急減し、かわりに80%以上の好評を受けているタイトルの割合が増加"
   ]
  },
  {
   "cell_type": "code",
   "execution_count": 15,
   "metadata": {},
   "outputs": [
    {
     "data": {
      "image/png": "[encoded data removed]",
      "text/plain": [
       "<Figure size 432x288 with 1 Axes>"
      ]
     },
     "metadata": {},
     "output_type": "display_data"
    }
   ],
   "source": [
    "ratings_count2 = ratings.loc[ratings[\"total_ratings\"] >= 1000, \"positive_rates_bin\"].value_counts().sort_index()\n",
    "\n",
    "fig = plt.figure()\n",
    "ax = fig.add_subplot(1, 1, 1)\n",
    "ax.pie(ratings_count2.values, labels=ratings_count2.index, autopct=\"%1.1f%%\")\n",
    "plt.show()"
   ]
  },
  {
   "cell_type": "markdown",
   "metadata": {},
   "source": [
    "## 7.デベロッパー"
   ]
  },
  {
   "cell_type": "markdown",
   "metadata": {},
   "source": [
    "- 発売タイトル数が多い順で、Top 10のデベロッパーを描画\n",
    "- アトリエ、信長の野望、三国志シリーズの影響もあり、Koei Tecmo Gamesが２位にランク"
   ]
  },
  {
   "cell_type": "code",
   "execution_count": 16,
   "metadata": {},
   "outputs": [
    {
     "data": {
      "image/png": "[encoded data removed]",
      "text/plain": [
       "<Figure size 1008x360 with 1 Axes>"
      ]
     },
     "metadata": {
      "needs_background": "light"
     },
     "output_type": "display_data"
    }
   ],
   "source": [
    "developers = ratings.groupby(\"developer\").agg(count=(\"developer\", \"size\"), avg_positive_rates=(\"positive_rates\", \"mean\"))\n",
    "developers = developers.reset_index().sort_values(by=\"count\", ascending=False).reset_index(drop=True)\n",
    "\n",
    "plt.figure(figsize=(14, 5))\n",
    "ax = sns.barplot(y=\"developer\", x=\"count\", data=developers[:10], ci=None, color=\"lightpink\", orient=\"h\")\n",
    "ax.set(xlabel=\"# of Games\")\n",
    "plt.show()"
   ]
  },
  {
   "cell_type": "markdown",
   "metadata": {},
   "source": [
    "- 上位デベロッパーの中では、Dexion Gamesの低い評価が目立つ"
   ]
  },
  {
   "cell_type": "code",
   "execution_count": 17,
   "metadata": {},
   "outputs": [
    {
     "data": {
      "image/png": "[encoded data removed]",
      "text/plain": [
       "<Figure size 1008x360 with 1 Axes>"
      ]
     },
     "metadata": {
      "needs_background": "light"
     },
     "output_type": "display_data"
    }
   ],
   "source": [
    "plt.figure(figsize=(14, 5))\n",
    "ax = sns.barplot(y=\"developer\", x=\"avg_positive_rates\", data=developers[:10], ci=None, color=\"darkkhaki\", orient=\"h\")\n",
    "ax.set(xlabel=\"# of Games\")\n",
    "plt.show()"
   ]
  },
  {
   "cell_type": "code",
   "execution_count": null,
   "metadata": {},
   "outputs": [],
   "source": []
  }
 ],
 "metadata": {
  "kernelspec": {
   "display_name": "Python 3",
   "language": "python",
   "name": "python3"
  },
  "language_info": {
   "codemirror_mode": {
    "name": "ipython",
    "version": 3
   },
   "file_extension": ".py",
   "mimetype": "text/x-python",
   "name": "python",
   "nbconvert_exporter": "python",
   "pygments_lexer": "ipython3",
   "version": "3.6.8"
  }
 },
 "nbformat": 4,
 "nbformat_minor": 2
}
